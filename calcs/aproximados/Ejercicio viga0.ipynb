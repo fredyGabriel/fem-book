{
 "cells": [
  {
   "cell_type": "markdown",
   "id": "d60d023c",
   "metadata": {},
   "source": [
    "## Ejercicio ex:viga0"
   ]
  },
  {
   "cell_type": "code",
   "execution_count": 28,
   "id": "ce79a30a",
   "metadata": {},
   "outputs": [],
   "source": [
    "import sympy as sp"
   ]
  },
  {
   "cell_type": "code",
   "execution_count": 29,
   "id": "8ad5201e",
   "metadata": {},
   "outputs": [],
   "source": [
    "a2, a3, a4, a5, x = sp.symbols('a_2 a_3 a_4 a_5 x')"
   ]
  },
  {
   "cell_type": "code",
   "execution_count": 30,
   "id": "adeea294",
   "metadata": {},
   "outputs": [],
   "source": [
    "v = a2*x**2 + a3*x**3 + a4*x**4 + a5*x**5"
   ]
  },
  {
   "cell_type": "code",
   "execution_count": 31,
   "id": "a13609b4",
   "metadata": {},
   "outputs": [
    {
     "data": {
      "text/latex": [
       "$\\displaystyle a_{2} + a_{3} + a_{4} + a_{5}$"
      ],
      "text/plain": [
       "a_2 + a_3 + a_4 + a_5"
      ]
     },
     "execution_count": 31,
     "metadata": {},
     "output_type": "execute_result"
    }
   ],
   "source": [
    "v1 = v.subs(x, 1)\n",
    "v1"
   ]
  },
  {
   "cell_type": "code",
   "execution_count": 32,
   "id": "1116448a",
   "metadata": {},
   "outputs": [
    {
     "data": {
      "text/latex": [
       "$\\displaystyle - a_{3} - a_{4} - a_{5}$"
      ],
      "text/plain": [
       "-a_3 - a_4 - a_5"
      ]
     },
     "execution_count": 32,
     "metadata": {},
     "output_type": "execute_result"
    }
   ],
   "source": [
    "A2 = sp.solve(v1, a2)[0]\n",
    "A2"
   ]
  },
  {
   "cell_type": "code",
   "execution_count": 33,
   "id": "a9c8ed5b",
   "metadata": {},
   "outputs": [
    {
     "data": {
      "text/latex": [
       "$\\displaystyle a_{3} x^{3} + a_{4} x^{4} + a_{5} x^{5} + x^{2} \\left(- a_{3} - a_{4} - a_{5}\\right)$"
      ],
      "text/plain": [
       "a_3*x**3 + a_4*x**4 + a_5*x**5 + x**2*(-a_3 - a_4 - a_5)"
      ]
     },
     "execution_count": 33,
     "metadata": {},
     "output_type": "execute_result"
    }
   ],
   "source": [
    "v2 = v.subs(a2, A2)\n",
    "v2"
   ]
  },
  {
   "cell_type": "code",
   "execution_count": 34,
   "id": "5448070b",
   "metadata": {},
   "outputs": [],
   "source": [
    "dv = v2.diff(x)\n",
    "ddv = dv.diff(x)"
   ]
  },
  {
   "cell_type": "code",
   "execution_count": 35,
   "id": "4247e749",
   "metadata": {},
   "outputs": [
    {
     "data": {
      "text/latex": [
       "$\\displaystyle 3 a_{3} x^{2} + 4 a_{4} x^{3} + 5 a_{5} x^{4} + 2 x \\left(- a_{3} - a_{4} - a_{5}\\right)$"
      ],
      "text/plain": [
       "3*a_3*x**2 + 4*a_4*x**3 + 5*a_5*x**4 + 2*x*(-a_3 - a_4 - a_5)"
      ]
     },
     "execution_count": 35,
     "metadata": {},
     "output_type": "execute_result"
    }
   ],
   "source": [
    "dv"
   ]
  },
  {
   "cell_type": "code",
   "execution_count": 36,
   "id": "0ed8f174",
   "metadata": {},
   "outputs": [
    {
     "data": {
      "text/latex": [
       "$\\displaystyle 6 a_{3} x - 2 a_{3} + 12 a_{4} x^{2} - 2 a_{4} + 20 a_{5} x^{3} - 2 a_{5}$"
      ],
      "text/plain": [
       "6*a_3*x - 2*a_3 + 12*a_4*x**2 - 2*a_4 + 20*a_5*x**3 - 2*a_5"
      ]
     },
     "execution_count": 36,
     "metadata": {},
     "output_type": "execute_result"
    }
   ],
   "source": [
    "ddv"
   ]
  },
  {
   "cell_type": "code",
   "execution_count": 37,
   "id": "cd1198fc",
   "metadata": {},
   "outputs": [],
   "source": [
    "q = -1 + x"
   ]
  },
  {
   "cell_type": "markdown",
   "id": "330f2482",
   "metadata": {},
   "source": [
    "## Rayleigh-Ritz"
   ]
  },
  {
   "cell_type": "code",
   "execution_count": 38,
   "id": "b3cf48c3",
   "metadata": {},
   "outputs": [
    {
     "data": {
      "text/latex": [
       "$\\displaystyle 2 a_{3}^{2} + 8 a_{3} a_{4} + 12 a_{3} a_{5} - \\frac{a_{3}}{30} + \\frac{42 a_{4}^{2}}{5} + 26 a_{4} a_{5} - \\frac{a_{4}}{20} + \\frac{144 a_{5}^{2}}{7} - \\frac{5 a_{5}}{84}$"
      ],
      "text/plain": [
       "2*a_3**2 + 8*a_3*a_4 + 12*a_3*a_5 - a_3/30 + 42*a_4**2/5 + 26*a_4*a_5 - a_4/20 + 144*a_5**2/7 - 5*a_5/84"
      ]
     },
     "execution_count": 38,
     "metadata": {},
     "output_type": "execute_result"
    }
   ],
   "source": [
    "# Energía\n",
    "Pi = sp.integrate(ddv**2, (x, 0, 1))/2 - sp.integrate(v2*q, (x, 0, 1))\n",
    "Pi"
   ]
  },
  {
   "cell_type": "code",
   "execution_count": 39,
   "id": "e8db4fd0",
   "metadata": {},
   "outputs": [
    {
     "data": {
      "text/latex": [
       "$\\displaystyle 4 a_{3} + 8 a_{4} + 12 a_{5} - \\frac{1}{30}$"
      ],
      "text/plain": [
       "4*a_3 + 8*a_4 + 12*a_5 - 1/30"
      ]
     },
     "execution_count": 39,
     "metadata": {},
     "output_type": "execute_result"
    }
   ],
   "source": [
    "eq1 = Pi.diff(a3)\n",
    "eq1"
   ]
  },
  {
   "cell_type": "code",
   "execution_count": 40,
   "id": "4289884f",
   "metadata": {},
   "outputs": [
    {
     "data": {
      "text/latex": [
       "$\\displaystyle 8 a_{3} + \\frac{84 a_{4}}{5} + 26 a_{5} - \\frac{1}{20}$"
      ],
      "text/plain": [
       "8*a_3 + 84*a_4/5 + 26*a_5 - 1/20"
      ]
     },
     "execution_count": 40,
     "metadata": {},
     "output_type": "execute_result"
    }
   ],
   "source": [
    "eq2 = Pi.diff(a4)\n",
    "eq2"
   ]
  },
  {
   "cell_type": "code",
   "execution_count": 41,
   "id": "f940408e",
   "metadata": {},
   "outputs": [
    {
     "data": {
      "text/latex": [
       "$\\displaystyle 12 a_{3} + 26 a_{4} + \\frac{288 a_{5}}{7} - \\frac{5}{84}$"
      ],
      "text/plain": [
       "12*a_3 + 26*a_4 + 288*a_5/7 - 5/84"
      ]
     },
     "execution_count": 41,
     "metadata": {},
     "output_type": "execute_result"
    }
   ],
   "source": [
    "eq3 = Pi.diff(a5)\n",
    "eq3"
   ]
  },
  {
   "cell_type": "code",
   "execution_count": 42,
   "id": "aefd3758",
   "metadata": {},
   "outputs": [
    {
     "data": {
      "text/plain": [
       "{a_3: 1/15, a_4: -1/24, a_5: 1/120}"
      ]
     },
     "execution_count": 42,
     "metadata": {},
     "output_type": "execute_result"
    }
   ],
   "source": [
    "sols = sp.solve([eq1, eq2, eq3])\n",
    "sols"
   ]
  },
  {
   "cell_type": "code",
   "execution_count": 43,
   "id": "8fbd6174",
   "metadata": {},
   "outputs": [],
   "source": [
    "A3 = sols[a3]\n",
    "A4 = sols[a4]\n",
    "A5 = sols[a5]"
   ]
  },
  {
   "cell_type": "code",
   "execution_count": 44,
   "id": "511941d4",
   "metadata": {},
   "outputs": [
    {
     "data": {
      "text/latex": [
       "$\\displaystyle - \\frac{1}{30}$"
      ],
      "text/plain": [
       "-1/30"
      ]
     },
     "execution_count": 44,
     "metadata": {},
     "output_type": "execute_result"
    }
   ],
   "source": [
    "A22 = -A3 - A4 - A5\n",
    "A22"
   ]
  },
  {
   "cell_type": "markdown",
   "id": "19536c3f",
   "metadata": {},
   "source": [
    "## Mínimos cuadrados"
   ]
  },
  {
   "cell_type": "code",
   "execution_count": 45,
   "id": "deffb49b",
   "metadata": {},
   "outputs": [
    {
     "data": {
      "text/latex": [
       "$\\displaystyle 6 a_{3} + 24 a_{4} x + 60 a_{5} x^{2}$"
      ],
      "text/plain": [
       "6*a_3 + 24*a_4*x + 60*a_5*x**2"
      ]
     },
     "execution_count": 45,
     "metadata": {},
     "output_type": "execute_result"
    }
   ],
   "source": [
    "d3v = ddv.diff(x)\n",
    "d3v"
   ]
  },
  {
   "cell_type": "code",
   "execution_count": 46,
   "id": "83c8078c",
   "metadata": {},
   "outputs": [
    {
     "data": {
      "text/latex": [
       "$\\displaystyle 24 a_{4} + 120 a_{5} x$"
      ],
      "text/plain": [
       "24*a_4 + 120*a_5*x"
      ]
     },
     "execution_count": 46,
     "metadata": {},
     "output_type": "execute_result"
    }
   ],
   "source": [
    "d4v = d3v.diff(x)\n",
    "d4v"
   ]
  },
  {
   "cell_type": "code",
   "execution_count": 47,
   "id": "b721540e",
   "metadata": {},
   "outputs": [
    {
     "data": {
      "text/latex": [
       "$\\displaystyle 24 a_{4} + 120 a_{5} x + x - 1$"
      ],
      "text/plain": [
       "24*a_4 + 120*a_5*x + x - 1"
      ]
     },
     "execution_count": 47,
     "metadata": {},
     "output_type": "execute_result"
    }
   ],
   "source": [
    "er = d4v + q\n",
    "er"
   ]
  },
  {
   "cell_type": "code",
   "execution_count": 48,
   "id": "22c0023d",
   "metadata": {},
   "outputs": [
    {
     "data": {
      "text/latex": [
       "$\\displaystyle 24$"
      ],
      "text/plain": [
       "24"
      ]
     },
     "execution_count": 48,
     "metadata": {},
     "output_type": "execute_result"
    }
   ],
   "source": [
    "der4 = er.diff(a4)\n",
    "der4"
   ]
  },
  {
   "cell_type": "code",
   "execution_count": 49,
   "id": "ea9492ec",
   "metadata": {},
   "outputs": [
    {
     "data": {
      "text/latex": [
       "$\\displaystyle 120 x$"
      ],
      "text/plain": [
       "120*x"
      ]
     },
     "execution_count": 49,
     "metadata": {},
     "output_type": "execute_result"
    }
   ],
   "source": [
    "der5 = er.diff(a5)\n",
    "der5"
   ]
  },
  {
   "cell_type": "code",
   "execution_count": 50,
   "id": "59a8d33d",
   "metadata": {},
   "outputs": [
    {
     "data": {
      "text/latex": [
       "$\\displaystyle 576 a_{4} + 1440 a_{5} - 12$"
      ],
      "text/plain": [
       "576*a_4 + 1440*a_5 - 12"
      ]
     },
     "execution_count": 50,
     "metadata": {},
     "output_type": "execute_result"
    }
   ],
   "source": [
    "ec1 = sp.integrate(er*der4, (x, 0, 1))\n",
    "ec1"
   ]
  },
  {
   "cell_type": "code",
   "execution_count": 51,
   "id": "85d1af76",
   "metadata": {},
   "outputs": [
    {
     "data": {
      "text/latex": [
       "$\\displaystyle 1440 a_{4} + 4800 a_{5} - 20$"
      ],
      "text/plain": [
       "1440*a_4 + 4800*a_5 - 20"
      ]
     },
     "execution_count": 51,
     "metadata": {},
     "output_type": "execute_result"
    }
   ],
   "source": [
    "ec2 = sp.integrate(er*der5, (x, 0, 1))\n",
    "ec2"
   ]
  },
  {
   "cell_type": "code",
   "execution_count": 52,
   "id": "13490d7f",
   "metadata": {},
   "outputs": [
    {
     "data": {
      "text/plain": [
       "{a_4: 1/24, a_5: -1/120}"
      ]
     },
     "execution_count": 52,
     "metadata": {},
     "output_type": "execute_result"
    }
   ],
   "source": [
    "sp.solve([ec1, ec2])"
   ]
  },
  {
   "cell_type": "markdown",
   "id": "4a2a5924",
   "metadata": {},
   "source": [
    "## Galerkin"
   ]
  },
  {
   "cell_type": "code",
   "execution_count": 53,
   "id": "f3815adf",
   "metadata": {},
   "outputs": [
    {
     "data": {
      "text/latex": [
       "$\\displaystyle x^{2} \\left(x - 1\\right) \\left(a_{3} + a_{4} \\left(x + 1\\right) + a_{5} \\left(x^{2} + x + 1\\right)\\right)$"
      ],
      "text/plain": [
       "x**2*(x - 1)*(a_3 + a_4*(x + 1) + a_5*(x**2 + x + 1))"
      ]
     },
     "execution_count": 53,
     "metadata": {},
     "output_type": "execute_result"
    }
   ],
   "source": [
    "v2.factor(a3, a4, a5)"
   ]
  },
  {
   "cell_type": "code",
   "execution_count": 54,
   "id": "0fe1b422",
   "metadata": {},
   "outputs": [],
   "source": [
    "phi1 = x**2*(x-1)\n",
    "phi2 = x**2*(x**2-1)\n",
    "phi3 = x**2*(x**3-1)"
   ]
  },
  {
   "cell_type": "code",
   "execution_count": 55,
   "id": "796cadba",
   "metadata": {},
   "outputs": [
    {
     "data": {
      "text/latex": [
       "$\\displaystyle x^{2} \\left(x - 1\\right) \\left(x^{2} + x + 1\\right)$"
      ],
      "text/plain": [
       "x**2*(x - 1)*(x**2 + x + 1)"
      ]
     },
     "execution_count": 55,
     "metadata": {},
     "output_type": "execute_result"
    }
   ],
   "source": [
    "phi3.factor()"
   ]
  },
  {
   "cell_type": "code",
   "execution_count": 56,
   "id": "e7afb34b",
   "metadata": {},
   "outputs": [],
   "source": [
    "# Primeras derivadas de las funciones base\n",
    "dphi1 = phi1.diff(x)\n",
    "dphi2 = phi2.diff(x)\n",
    "dphi3 = phi3.diff(x)"
   ]
  },
  {
   "cell_type": "code",
   "execution_count": 57,
   "id": "80ea680f",
   "metadata": {},
   "outputs": [],
   "source": [
    "# Segundas derivadas de las funciones base\n",
    "d2phi1 = dphi1.diff(x)\n",
    "d2phi2 = dphi2.diff(x)\n",
    "d2phi3 = dphi3.diff(x)"
   ]
  },
  {
   "cell_type": "code",
   "execution_count": 58,
   "id": "b4b67ac3",
   "metadata": {},
   "outputs": [],
   "source": [
    "I1 = sp.integrate(ddv*d2phi1, (x, 0, 1))\n",
    "I2 = sp.integrate(ddv*d2phi2, (x, 0, 1))\n",
    "I3 = sp.integrate(ddv*d2phi3, (x, 0, 1))"
   ]
  },
  {
   "cell_type": "code",
   "execution_count": 59,
   "id": "8da97ee8",
   "metadata": {},
   "outputs": [],
   "source": [
    "f1 = ddv.subs(x, 1)*dphi1.subs(x, 1)\n",
    "f2 = ddv.subs(x, 1)*dphi2.subs(x, 1)\n",
    "f3 = ddv.subs(x, 1)*dphi3.subs(x, 1)"
   ]
  },
  {
   "cell_type": "code",
   "execution_count": 60,
   "id": "1352c0b8",
   "metadata": {},
   "outputs": [],
   "source": [
    "T1 = sp.integrate(q*phi1, (x, 0, 1))\n",
    "T2 = sp.integrate(q*phi2, (x, 0, 1))\n",
    "T3 = sp.integrate(q*phi3, (x, 0, 1))"
   ]
  },
  {
   "cell_type": "code",
   "execution_count": 61,
   "id": "e7a1191c",
   "metadata": {},
   "outputs": [],
   "source": [
    "e1 = I1 - f1 - T1\n",
    "e2 = I2 - f2 - T2\n",
    "e3 = I3 - f3 - T3"
   ]
  },
  {
   "cell_type": "code",
   "execution_count": 62,
   "id": "bce235d3",
   "metadata": {},
   "outputs": [
    {
     "data": {
      "text/latex": [
       "$\\displaystyle - 2 a_{4} - 6 a_{5} - \\frac{1}{30}$"
      ],
      "text/plain": [
       "-2*a_4 - 6*a_5 - 1/30"
      ]
     },
     "execution_count": 62,
     "metadata": {},
     "output_type": "execute_result"
    }
   ],
   "source": [
    "e1"
   ]
  },
  {
   "cell_type": "code",
   "execution_count": 87,
   "id": "bc554d36",
   "metadata": {},
   "outputs": [
    {
     "data": {
      "text/latex": [
       "$\\displaystyle - \\frac{16 a_{4}}{5} - 10 a_{5} - \\frac{1}{20}$"
      ],
      "text/plain": [
       "-16*a_4/5 - 10*a_5 - 1/20"
      ]
     },
     "execution_count": 87,
     "metadata": {},
     "output_type": "execute_result"
    }
   ],
   "source": [
    "e2"
   ]
  },
  {
   "cell_type": "code",
   "execution_count": 89,
   "id": "d590a3f1",
   "metadata": {},
   "outputs": [
    {
     "data": {
      "text/latex": [
       "$\\displaystyle - 4 a_{4} - \\frac{90 a_{5}}{7} - \\frac{5}{84}$"
      ],
      "text/plain": [
       "-4*a_4 - 90*a_5/7 - 5/84"
      ]
     },
     "execution_count": 89,
     "metadata": {},
     "output_type": "execute_result"
    }
   ],
   "source": [
    "e3"
   ]
  },
  {
   "cell_type": "code",
   "execution_count": 65,
   "id": "95a62e7b",
   "metadata": {},
   "outputs": [
    {
     "data": {
      "text/latex": [
       "$\\displaystyle 4 a_{3} + 8 a_{4} + 12 a_{5}$"
      ],
      "text/plain": [
       "4*a_3 + 8*a_4 + 12*a_5"
      ]
     },
     "execution_count": 65,
     "metadata": {},
     "output_type": "execute_result"
    }
   ],
   "source": [
    "I1"
   ]
  },
  {
   "cell_type": "code",
   "execution_count": 66,
   "id": "ac45ee34",
   "metadata": {},
   "outputs": [
    {
     "data": {
      "text/plain": [
       "{a_4: -1/24, a_5: 1/120}"
      ]
     },
     "execution_count": 66,
     "metadata": {},
     "output_type": "execute_result"
    }
   ],
   "source": [
    "sp.solve([e1, e2, e3])"
   ]
  },
  {
   "cell_type": "code",
   "execution_count": 75,
   "id": "bc3b1efa",
   "metadata": {},
   "outputs": [
    {
     "data": {
      "text/latex": [
       "$\\displaystyle a_{3} x^{3} + a_{4} x^{4} + a_{5} x^{5} + x^{2} \\left(- a_{3} - a_{4} - a_{5}\\right)$"
      ],
      "text/plain": [
       "a_3*x**3 + a_4*x**4 + a_5*x**5 + x**2*(-a_3 - a_4 - a_5)"
      ]
     },
     "execution_count": 75,
     "metadata": {},
     "output_type": "execute_result"
    }
   ],
   "source": [
    "v2"
   ]
  },
  {
   "cell_type": "code",
   "execution_count": 77,
   "id": "28376be4",
   "metadata": {},
   "outputs": [
    {
     "data": {
      "text/latex": [
       "$\\displaystyle 0$"
      ],
      "text/plain": [
       "0"
      ]
     },
     "execution_count": 77,
     "metadata": {},
     "output_type": "execute_result"
    }
   ],
   "source": [
    "dv2 = v2.diff(x)\n",
    "dv2.subs(x, 0)"
   ]
  },
  {
   "cell_type": "code",
   "execution_count": 78,
   "id": "ce881801",
   "metadata": {},
   "outputs": [
    {
     "data": {
      "text/latex": [
       "$\\displaystyle 3 a_{3} x^{2} + 4 a_{4} x^{3} + 5 a_{5} x^{4} + 2 x \\left(- a_{3} - a_{4} - a_{5}\\right)$"
      ],
      "text/plain": [
       "3*a_3*x**2 + 4*a_4*x**3 + 5*a_5*x**4 + 2*x*(-a_3 - a_4 - a_5)"
      ]
     },
     "execution_count": 78,
     "metadata": {},
     "output_type": "execute_result"
    }
   ],
   "source": [
    "dv2"
   ]
  },
  {
   "cell_type": "code",
   "execution_count": 80,
   "id": "d5ca3bce",
   "metadata": {},
   "outputs": [
    {
     "data": {
      "text/latex": [
       "$\\displaystyle 4 a_{3} + 10 a_{4} + 18 a_{5}$"
      ],
      "text/plain": [
       "4*a_3 + 10*a_4 + 18*a_5"
      ]
     },
     "execution_count": 80,
     "metadata": {},
     "output_type": "execute_result"
    }
   ],
   "source": [
    "ddv.subs(x, 1)"
   ]
  },
  {
   "cell_type": "code",
   "execution_count": 83,
   "id": "fa5eb110",
   "metadata": {},
   "outputs": [
    {
     "data": {
      "text/latex": [
       "$\\displaystyle - \\frac{1}{15}$"
      ],
      "text/plain": [
       "-1/15"
      ]
     },
     "execution_count": 83,
     "metadata": {},
     "output_type": "execute_result"
    }
   ],
   "source": [
    "(5*A4 + 9*A5)/2"
   ]
  },
  {
   "cell_type": "code",
   "execution_count": null,
   "id": "0a94f298",
   "metadata": {},
   "outputs": [],
   "source": []
  }
 ],
 "metadata": {
  "kernelspec": {
   "display_name": "Python 3 (ipykernel)",
   "language": "python",
   "name": "python3"
  },
  "language_info": {
   "codemirror_mode": {
    "name": "ipython",
    "version": 3
   },
   "file_extension": ".py",
   "mimetype": "text/x-python",
   "name": "python",
   "nbconvert_exporter": "python",
   "pygments_lexer": "ipython3",
   "version": "3.11.3"
  }
 },
 "nbformat": 4,
 "nbformat_minor": 5
}
